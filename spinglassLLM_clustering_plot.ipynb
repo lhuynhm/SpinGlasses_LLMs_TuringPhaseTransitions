{
  "nbformat": 4,
  "nbformat_minor": 0,
  "metadata": {
    "colab": {
      "provenance": []
    },
    "kernelspec": {
      "name": "python3",
      "display_name": "Python 3"
    },
    "language_info": {
      "name": "python"
    }
  },
  "cells": [
    {
      "cell_type": "code",
      "execution_count": null,
      "metadata": {
        "id": "nTFwmDid8x-9"
      },
      "outputs": [],
      "source": [
        "import numpy as np\n",
        "import matplotlib.pyplot as plt\n",
        "from scipy.stats import gaussian_kde\n",
        "from scipy.signal import find_peaks\n",
        "import math\n",
        "\n",
        "# Load the results\n",
        "results = np.load('gibbs_results.npy', allow_pickle=True).item()\n",
        "\n",
        "# ------------------------\n",
        "# Plotting + Analysis\n",
        "# ------------------------\n",
        "\n",
        "n = len(results)\n",
        "n_cols = 6\n",
        "n_rows = math.ceil(n / n_cols)\n",
        "\n",
        "fig, axes = plt.subplots(n_rows, n_cols, figsize=(18, 2.5 * n_rows), sharex=True, sharey=True)\n",
        "axes = axes.flatten()\n",
        "x_vals = np.linspace(-1, 1, 300)\n",
        "\n",
        "for i, ((beta_h, beta_a), overlaps) in enumerate(results.items()):\n",
        "    ax = axes[i]\n",
        "    data = np.array(overlaps)\n",
        "\n",
        "    # KDE\n",
        "    kde = gaussian_kde(data)\n",
        "    kde_vals = kde(x_vals)\n",
        "\n",
        "    # Multimodality detection\n",
        "    peaks, _ = find_peaks(kde_vals, prominence=0.01)\n",
        "    num_peaks = len(peaks)\n",
        "    modality = 'Multimodal' if num_peaks >= 2 else 'Unimodal'\n",
        "\n",
        "    # Normality test\n",
        "    if len(data) >= 3:\n",
        "        _, pval = shapiro(data)\n",
        "        normality = 'Normal' if pval > 0.05 else 'Not Normal'\n",
        "    else:\n",
        "        normality = 'Too little data'\n",
        "\n",
        "    # Color scheme\n",
        "    if modality == 'Multimodal' or normality == 'Not Normal':\n",
        "        color = 'blue'\n",
        "    else:\n",
        "        color = 'green'\n",
        "\n",
        "    # Plot histogram\n",
        "    ax.hist(data, bins=20, color=color, edgecolor='black', alpha=0.6, density=True)\n",
        "\n",
        "    # Plot KDE\n",
        "    ax.plot(x_vals, kde_vals, color='black', linewidth=2)\n",
        "    ax.plot(x_vals[peaks], kde_vals[peaks], \"ro\", markersize=3)\n",
        "\n",
        "    # Annotate\n",
        "    ax.set_title(f'β_h={beta_h}, β_AI={beta_a}\\n{modality}, {normality}', fontsize=9)\n",
        "    ax.set_xlim(-1, 1)\n",
        "    ax.set_yticks([])\n",
        "\n",
        "for j in range(i + 1, len(axes)):\n",
        "    axes[j].axis('off')\n",
        "\n",
        "fig.text(0.5, 0.04, 'Overlap between F_human and F_AI', ha='center', fontsize=12)\n",
        "plt.tight_layout(rect=[0, 0.05, 1, 0.95])\n",
        "plt.show()\n"
      ]
    }
  ]
}