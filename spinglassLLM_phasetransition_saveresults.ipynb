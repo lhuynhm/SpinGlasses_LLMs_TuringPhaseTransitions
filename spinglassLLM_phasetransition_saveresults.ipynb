{
  "cells": [
    {
      "cell_type": "code",
      "execution_count": null,
      "metadata": {
        "id": "R8rpXoNm_PFm"
      },
      "outputs": [
        {
          "name": "stderr",
          "output_type": "stream",
          "text": [
            "β_human:   0%|          | 0/20 [00:00<?, ?it/s]"
          ]
        }
      ],
      "source": [
        "import numpy as np\n",
        "import pandas as pd\n",
        "from tqdm import tqdm\n",
        "from scipy.stats import pearsonr\n",
        "\n",
        "# Parameters\n",
        "n_people = 116\n",
        "n_f_human = 33\n",
        "n_f_AI = 33\n",
        "n_steps = 1000\n",
        "step_size = 0.1\n",
        "dim = 50  # dimensionality of the sphere\n",
        "beta_range = np.linspace(0, 2.0, 20)\n",
        "\n",
        "# Sphere projection\n",
        "def project_to_sphere(v):\n",
        "    return v / np.linalg.norm(v)\n",
        "\n",
        "# Initialize each group on the unit sphere\n",
        "def init_population(n_vectors, dim):\n",
        "    return np.array([project_to_sphere(np.random.normal(0, 1, dim)) for _ in range(n_vectors)])\n",
        "\n",
        "# Hamiltonians\n",
        "def H_human(X, F_human, J_human):\n",
        "    return (1 / np.sqrt(n_people + n_f_human)) * np.sum(J_human * (X @ F_human.T))\n",
        "\n",
        "def H_AI(X, F_AI, J_AI):\n",
        "    return (1 / np.sqrt(n_people + n_f_AI)) * np.sum(J_AI * (X @ F_AI.T))\n",
        "\n",
        "# Metropolis update\n",
        "def metropolis_update(X, F_human, F_AI, J_human, J_AI, beta_human, beta_AI):\n",
        "    X_new = np.array([project_to_sphere(x + step_size * np.random.normal(0, 1, x.shape[0])) for x in X])\n",
        "    F_human_new = np.array([project_to_sphere(f + step_size * np.random.normal(0, 1, f.shape[0])) for f in F_human])\n",
        "    F_AI_new = np.array([project_to_sphere(f + step_size * np.random.normal(0, 1, f.shape[0])) for f in F_AI])\n",
        "\n",
        "    H_old = beta_human * H_human(X, F_human, J_human) + beta_AI * H_AI(X, F_AI, J_AI)\n",
        "    H_new = beta_human * H_human(X_new, F_human_new, J_human) + beta_AI * H_AI(X_new, F_AI_new, J_AI)\n",
        "\n",
        "    if np.random.rand() < np.exp(H_new - H_old):\n",
        "        return X_new, F_human_new, F_AI_new\n",
        "    else:\n",
        "        return X, F_human, F_AI\n",
        "\n",
        "# Overlap between two sets of vectors\n",
        "def compute_overlap(A, B):\n",
        "    return np.mean([np.dot(a, b) for a, b in zip(A, B)])\n",
        "\n",
        "# Initialize result matrices\n",
        "energy_matrix = np.zeros((len(beta_range), len(beta_range)))\n",
        "overlap_people_AI = np.zeros((len(beta_range), len(beta_range)))\n",
        "overlap_people_human = np.zeros((len(beta_range), len(beta_range)))\n",
        "overlap_diff = np.zeros((len(beta_range), len(beta_range)))\n",
        "\n",
        "# Main simulation loop\n",
        "for i, beta_human in enumerate(tqdm(beta_range, desc=\"β_human\")):\n",
        "    for j, beta_AI in enumerate(beta_range):\n",
        "        # Initialize system\n",
        "        X = init_population(n_people, dim)\n",
        "        F_human = init_population(n_f_human, dim)\n",
        "        F_AI = init_population(n_f_AI, dim)\n",
        "        J_human = np.random.normal(0, 1, (n_people, n_f_human))\n",
        "        J_AI = np.random.normal(0, 1, (n_people, n_f_AI))\n",
        "\n",
        "        # Burn-in\n",
        "        for _ in range(200):\n",
        "            X, F_human, F_AI = metropolis_update(X, F_human, F_AI, J_human, J_AI, beta_human, beta_AI)\n",
        "\n",
        "        # Sampling\n",
        "        total_energy = 0\n",
        "        for _ in range(n_steps):\n",
        "            X, F_human, F_AI = metropolis_update(X, F_human, F_AI, J_human, J_AI, beta_human, beta_AI)\n",
        "            H_total = beta_human * H_human(X, F_human, J_human) + beta_AI * H_AI(X, F_AI, J_AI)\n",
        "            total_energy += H_total\n",
        "\n",
        "        avg_energy = total_energy / n_steps\n",
        "        energy_matrix[i, j] = avg_energy\n",
        "\n",
        "        # Compute overlaps\n",
        "        q_people_AI = np.mean([np.dot(x, f) for x in X for f in F_AI])\n",
        "        q_people_human = np.mean([np.dot(x, f) for x in X for f in F_human])\n",
        "        overlap_people_AI[i, j] = q_people_AI\n",
        "        overlap_people_human[i, j] = q_people_human\n",
        "        overlap_diff[i, j] = q_people_AI - q_people_human\n",
        "\n",
        "# Save the results to CSV\n",
        "np.savetxt(\"energy_matrix.csv\", energy_matrix, delimiter=\",\")\n",
        "np.savetxt(\"overlap_people_AI.csv\", overlap_people_AI, delimiter=\",\")\n",
        "np.savetxt(\"overlap_people_human.csv\", overlap_people_human, delimiter=\",\")\n",
        "np.savetxt(\"overlap_diff.csv\", overlap_diff, delimiter=\",\")\n"
      ]
    }
  ],
  "metadata": {
    "colab": {
      "provenance": []
    },
    "kernelspec": {
      "display_name": "mrc-2023",
      "language": "python",
      "name": "python3"
    },
    "language_info": {
      "codemirror_mode": {
        "name": "ipython",
        "version": 3
      },
      "file_extension": ".py",
      "mimetype": "text/x-python",
      "name": "python",
      "nbconvert_exporter": "python",
      "pygments_lexer": "ipython3",
      "version": "3.10.14"
    }
  },
  "nbformat": 4,
  "nbformat_minor": 0
}
