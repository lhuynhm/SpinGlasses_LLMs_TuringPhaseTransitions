{
 "cells": [
  {
   "cell_type": "code",
   "execution_count": null,
   "id": "1e0681f3-fcf2-4b48-be3e-deb62b5ef9aa",
   "metadata": {},
   "outputs": [],
   "source": [
    "import os, re, math\n",
    "import matplotlib.pyplot as plt\n",
    "import matplotlib.image as mpimg\n",
    "\n",
    "# Folder where the 17 heatmaps are stored\n",
    "desktop = os.path.join(os.path.expanduser(\"~\"), \"Desktop\")\n",
    "heatmap_dir = os.path.join(desktop, \"AI_AI_heatmaps\")\n",
    "\n",
    "# Grab and sort by temperature from filename: cosine_5x5_temp_0.38.png\n",
    "pat = re.compile(r\"cosine_5x5_temp_(\\d+\\.\\d{2})\\.png\")\n",
    "pngs = []\n",
    "for f in os.listdir(heatmap_dir):\n",
    "    m = pat.match(f)\n",
    "    if m:\n",
    "        pngs.append((float(m.group(1)), os.path.join(heatmap_dir, f)))\n",
    "\n",
    "pngs.sort(key=lambda x: x[0])           # sort by temperature\n",
    "paths = [p for _, p in pngs]\n",
    "titles = [f\"T = {t:.2f}\" for t, _ in pngs]\n",
    "\n",
    "n = len(paths)                           \n",
    "ncols = 6                            \n",
    "nrows = math.ceil(n / ncols)\n",
    "\n",
    "# Size per panel\n",
    "panel_w, panel_h = 3.0, 3.0\n",
    "fig = plt.figure(figsize=(ncols * panel_w, nrows * panel_h))\n",
    "\n",
    "for i, (p, title) in enumerate(zip(paths, titles), start=1):\n",
    "    ax = fig.add_subplot(nrows, ncols, i)\n",
    "    img = mpimg.imread(p)\n",
    "    ax.imshow(img)\n",
    "    ax.set_title(title, fontsize=10)\n",
    "    ax.axis(\"off\")\n",
    "\n",
    "# Hide any empty slots\n",
    "for j in range(n + 1, nrows * ncols + 1):\n",
    "    ax = fig.add_subplot(nrows, ncols, j)\n",
    "    ax.axis(\"off\")\n",
    "\n",
    "plt.tight_layout()\n",
    "\n",
    "# Save the combined grid on Desktop\n",
    "out_path = os.path.join(desktop, \"AI_AI_heatmaps_grid.png\")\n",
    "plt.savefig(out_path, dpi=300, bbox_inches=\"tight\")\n",
    "plt.show()\n",
    "\n",
    "print(f\"Combined figure saved to: {out_path}\")"
   ]
  },
  {
   "cell_type": "code",
   "execution_count": null,
   "id": "2fbbe158-3300-4f84-9ad8-1e9bae039cdf",
   "metadata": {},
   "outputs": [],
   "source": []
  }
 ],
 "metadata": {
  "kernelspec": {
   "display_name": "Python (research)",
   "language": "python",
   "name": "research"
  },
  "language_info": {
   "codemirror_mode": {
    "name": "ipython",
    "version": 3
   },
   "file_extension": ".py",
   "mimetype": "text/x-python",
   "name": "python",
   "nbconvert_exporter": "python",
   "pygments_lexer": "ipython3",
   "version": "3.12.7"
  }
 },
 "nbformat": 4,
 "nbformat_minor": 5
}
