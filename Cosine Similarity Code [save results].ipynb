{
 "cells": [
  {
   "cell_type": "markdown",
   "id": "f81ef22e-9fc2-4166-adaa-6692684f0533",
   "metadata": {},
   "source": [
    "Import necessary packages"
   ]
  },
  {
   "cell_type": "code",
   "execution_count": 29,
   "id": "315a8bb2-7fb5-4f12-9102-e614753387e8",
   "metadata": {},
   "outputs": [],
   "source": [
    "import fitz  # PyMuPDF\n",
    "import pandas as pd\n",
    "import numpy as np\n",
    "import os\n",
    "import re\n",
    "import matplotlib.pyplot as plt\n",
    "import seaborn as sns\n",
    "from nltk.corpus import stopwords\n",
    "from nltk.tokenize import sent_tokenize\n",
    "from sklearn.feature_extraction.text import TfidfVectorizer\n",
    "from sklearn.metrics.pairwise import cosine_similarity"
   ]
  },
  {
   "cell_type": "markdown",
   "id": "ef34b69a-a81b-4f77-8698-a25682ce081a",
   "metadata": {},
   "source": [
    "Download NLTK resources"
   ]
  },
  {
   "cell_type": "code",
   "execution_count": 32,
   "id": "d9d294a6-a7cb-4f19-bf46-ca35edba6844",
   "metadata": {},
   "outputs": [
    {
     "name": "stderr",
     "output_type": "stream",
     "text": [
      "[nltk_data] Downloading package punkt to\n",
      "[nltk_data]     /Users/jacksongeorge/nltk_data...\n",
      "[nltk_data]   Package punkt is already up-to-date!\n",
      "[nltk_data] Downloading package punkt_tab to\n",
      "[nltk_data]     /Users/jacksongeorge/nltk_data...\n",
      "[nltk_data]   Package punkt_tab is already up-to-date!\n",
      "[nltk_data] Downloading package stopwords to\n",
      "[nltk_data]     /Users/jacksongeorge/nltk_data...\n",
      "[nltk_data]   Package stopwords is already up-to-date!\n"
     ]
    },
    {
     "data": {
      "text/plain": [
       "True"
      ]
     },
     "execution_count": 32,
     "metadata": {},
     "output_type": "execute_result"
    }
   ],
   "source": [
    "import nltk\n",
    "nltk.download('punkt')\n",
    "nltk.download('punkt_tab')\n",
    "nltk.download('stopwords')"
   ]
  },
  {
   "cell_type": "markdown",
   "id": "d8f0922f-efea-4b13-a9a9-3a73d1216ee1",
   "metadata": {},
   "source": [
    "## Results for Figure 4"
   ]
  },
  {
   "cell_type": "markdown",
   "id": "c508adbe-ed47-4834-a076-35ada42bec99",
   "metadata": {},
   "source": [
    "Load the flitzes and compute cosine similarity (data for Figure 4)"
   ]
  },
  {
   "cell_type": "code",
   "execution_count": 41,
   "id": "5830e37e-4704-495f-a19f-e46506c1e017",
   "metadata": {},
   "outputs": [],
   "source": [
    "# Load the human-written flitzes (saved in an Excel file, one flitz per row)\n",
    "human_written_flitz_file_path = \"/Users/jacksongeorge/Desktop/human_written_flitzes.xlsx\"\n",
    "human_written_flitz_df = pd.read_excel(human_written_flitz_file_path, header=None)\n",
    "\n",
    "# Load the LLM-generated flitzes\n",
    "ai_generated_flitz_folder = \"/Users/jacksongeorge/Desktop/ai_flitz_samples\"\n",
    "ai_flitz_file_list = os.listdir(ai_generated_flitz_folder)\n",
    "\n",
    "# Provide the pattern for how the LLM-generated flitzes are stored. The above folder contains 170 Excel files...\n",
    "# ... 10 at each temperature value, and 17 total temperature values\n",
    "# Example file: temp_0.00_sample_01.xlsx\n",
    "pattern = r\"temp_(\\d+\\.\\d{2})_sample_(\\d+)\\.xlsx\"\n",
    "\n",
    "averaged_results = []\n",
    "\n",
    "for filename in ai_flitz_file_list:\n",
    "    match = re.match(pattern, filename)\n",
    "    if not match:\n",
    "        continue  # skip files that don't match the pattern\n",
    "\n",
    "    temperature = float(match.group(1))\n",
    "    sample_number = int(match.group(2))\n",
    "\n",
    "    file_path = os.path.join(ai_generated_flitz_folder, filename)\n",
    "    ai_df = pd.read_excel(file_path)\n",
    "\n",
    "    similarity_scores = []\n",
    "\n",
    "    for i in range(33):  # for each of the 33 virtual students\n",
    "        real_text = human_written_flitz_df.iloc[i, 0]\n",
    "        ai_text = ai_df.loc[i, 'Flitz Output']\n",
    "\n",
    "        if pd.isna(real_text) or pd.isna(ai_text):\n",
    "            print(f\"⚠️ Skipping index {i+1} in {filename} due to missing data\")\n",
    "            continue\n",
    "\n",
    "        real_text = str(real_text)\n",
    "        ai_text = str(ai_text)\n",
    "\n",
    "        # Compute cosine similarity\n",
    "        vectorizer = TfidfVectorizer()\n",
    "        tfidf = vectorizer.fit_transform([real_text, ai_text])\n",
    "        score = cosine_similarity(tfidf[0], tfidf[1])[0][0]\n",
    "        similarity_scores.append(score)\n",
    "\n",
    "    if similarity_scores:\n",
    "        average_score = sum(similarity_scores) / len(similarity_scores)\n",
    "        averaged_results.append({\n",
    "            'temperature': temperature,\n",
    "            'sample_number': sample_number,\n",
    "            'average_cosine_similarity': average_score\n",
    "        })"
   ]
  },
  {
   "cell_type": "markdown",
   "id": "6afecf9b-dc05-4980-bf84-518f12db6f8d",
   "metadata": {},
   "source": [
    "Save the cosine similarity results (Data for Figure 4)"
   ]
  },
  {
   "cell_type": "code",
   "execution_count": 43,
   "id": "77c319a2-569d-473d-9396-69fa849d6945",
   "metadata": {},
   "outputs": [
    {
     "name": "stdout",
     "output_type": "stream",
     "text": [
      "Averaged results saved to: /Users/jacksongeorge/Desktop/average_cosine_similarity_results.xlsx\n"
     ]
    }
   ],
   "source": [
    "averaged_df = pd.DataFrame(averaged_results)\n",
    "output_path = os.path.join(os.path.expanduser(\"~\"), \"Desktop\", \"average_cosine_similarity_results.xlsx\")\n",
    "averaged_df.to_excel(output_path, index=False)\n",
    "print(f\"Averaged results saved to: {output_path}\")"
   ]
  },
  {
   "cell_type": "markdown",
   "id": "cdbbb7dc-8989-486a-9c55-6851419b666c",
   "metadata": {},
   "source": [
    "## Results for Figure 2D"
   ]
  },
  {
   "cell_type": "markdown",
   "id": "ca9fa562-e570-44f5-a7d3-109178a216ff",
   "metadata": {},
   "source": [
    "Compute Wasserstein Distance from a reference point (Data for Figure 2D)"
   ]
  },
  {
   "cell_type": "code",
   "execution_count": 53,
   "id": "64c6c693-7160-48fb-9727-3ea4796b07d1",
   "metadata": {},
   "outputs": [],
   "source": [
    "from scipy.stats import wasserstein_distance\n",
    "\n",
    "# Compute Wasserstein distances between the probability distributions of average cosine similarities at each temperature\n",
    "reference_temp = 0.00\n",
    "temperatures = sorted(averaged_df['temperature'].unique())\n",
    "\n",
    "# Create a list to hold distances for each temperature\n",
    "all_distances = {temp: [] for temp in temperatures}\n",
    "\n",
    "# Extract the reference data for the specified temperature\n",
    "ref_data = averaged_df[averaged_df['temperature'] == reference_temp]['average_cosine_similarity']\n",
    "\n",
    "if len(ref_data) == 0:\n",
    "    print(f\"⚠️ No data for T={reference_temp}\")\n",
    "else:\n",
    "    for temp in temperatures:\n",
    "        # Extract data for the current temperature\n",
    "        other_data = averaged_df[averaged_df['temperature'] == temp]['average_cosine_similarity']\n",
    "        \n",
    "        if len(other_data) > 0:\n",
    "            dist = wasserstein_distance(ref_data, other_data)\n",
    "            all_distances[temp].append(dist)\n",
    "        else:\n",
    "            all_distances[temp].append(np.nan)\n",
    "\n",
    "# Compute mean and std dev for each temperature\n",
    "summary = {\n",
    "    \"temperature\": [],\n",
    "    \"mean_distance\": [],\n",
    "    \"std_distance\": []\n",
    "}\n",
    "\n",
    "for temp in temperatures:\n",
    "    dists = np.array(all_distances[temp])\n",
    "    dists = dists[~np.isnan(dists)]  # Drop NaNs\n",
    "    if len(dists) > 0:\n",
    "        summary[\"temperature\"].append(temp)\n",
    "        summary[\"mean_distance\"].append(np.mean(dists))\n",
    "        summary[\"std_distance\"].append(np.std(dists))"
   ]
  },
  {
   "cell_type": "markdown",
   "id": "ccc2e9f0-4372-48eb-b8f4-00e8083c53e9",
   "metadata": {},
   "source": [
    "Save Wasserstein distance from reference point results (Figure 2D)"
   ]
  },
  {
   "cell_type": "code",
   "execution_count": 56,
   "id": "56f79187-b551-453f-b26d-9c35bbad2928",
   "metadata": {},
   "outputs": [
    {
     "name": "stdout",
     "output_type": "stream",
     "text": [
      "Wasserstein distance from reference point results saved to: /Users/jacksongeorge/Desktop/wasserstein_distance_reference_point.xlsx\n"
     ]
    }
   ],
   "source": [
    "summary_df = pd.DataFrame(summary)\n",
    "output_path = os.path.join(os.path.expanduser(\"~\"), \"Desktop\", \"wasserstein_distance_reference_point.xlsx\")\n",
    "summary_df.to_excel(output_path, index=False)\n",
    "print(f\"Wasserstein distance from reference point results saved to: {output_path}\")"
   ]
  },
  {
   "cell_type": "markdown",
   "id": "516a89e0-cdb3-438d-ba5a-6411ec97138c",
   "metadata": {},
   "source": [
    "## Results for Figure 2C"
   ]
  },
  {
   "cell_type": "markdown",
   "id": "5bb945a1-ee70-454e-9a46-152eae5862ff",
   "metadata": {},
   "source": [
    "Compute Wasserstein Distance between Consecutive Temperature Values (Data for Figure 2C)"
   ]
  },
  {
   "cell_type": "code",
   "execution_count": 60,
   "id": "fdef051c-c1ed-4106-993b-04e514ee1cef",
   "metadata": {},
   "outputs": [],
   "source": [
    "# Sort the temperature values\n",
    "temperatures = sorted(averaged_df['temperature'].unique())\n",
    "\n",
    "midpoints = []\n",
    "distances = []\n",
    "\n",
    "# Iterate over consecutive pairs\n",
    "for i in range(len(temperatures) - 1):\n",
    "    t1, t2 = temperatures[i], temperatures[i+1]\n",
    "    data1 = averaged_df[averaged_df['temperature'] == t1]['average_cosine_similarity']\n",
    "    data2 = averaged_df[averaged_df['temperature'] == t2]['average_cosine_similarity']\n",
    "    \n",
    "    if len(data1) > 0 and len(data2) > 0:\n",
    "        dist = wasserstein_distance(data1, data2)\n",
    "        midpoint = (t1 + t2) / 2\n",
    "        midpoints.append(midpoint)\n",
    "        distances.append(dist)\n",
    "\n",
    "# Create DataFrame\n",
    "diff_df = pd.DataFrame({\n",
    "    'temperature_midpoint': midpoints,\n",
    "    'wasserstein_distance': distances\n",
    "})"
   ]
  },
  {
   "cell_type": "markdown",
   "id": "2855ef2d-dd1b-4223-b9d0-c5812d0a16f6",
   "metadata": {},
   "source": [
    "Save Wasserstein distance between consecutive temperature values results (Figure 2C)"
   ]
  },
  {
   "cell_type": "code",
   "execution_count": 62,
   "id": "a3a80bba-2cda-4b84-8353-da21e2bc9378",
   "metadata": {},
   "outputs": [
    {
     "name": "stdout",
     "output_type": "stream",
     "text": [
      "Wasserstein distance between consecutive temps results saved to: /Users/jacksongeorge/Desktop/wasserstein_distance_consecutive_temps.xlsx\n"
     ]
    }
   ],
   "source": [
    "output_path = os.path.join(os.path.expanduser(\"~\"), \"Desktop\", \"wasserstein_distance_consecutive_temps.xlsx\")\n",
    "diff_df.to_excel(output_path, index=False)\n",
    "print(f\"Wasserstein distance between consecutive temps results saved to: {output_path}\")"
   ]
  }
 ],
 "metadata": {
  "kernelspec": {
   "display_name": "Python (research)",
   "language": "python",
   "name": "research"
  },
  "language_info": {
   "codemirror_mode": {
    "name": "ipython",
    "version": 3
   },
   "file_extension": ".py",
   "mimetype": "text/x-python",
   "name": "python",
   "nbconvert_exporter": "python",
   "pygments_lexer": "ipython3",
   "version": "3.12.7"
  }
 },
 "nbformat": 4,
 "nbformat_minor": 5
}
