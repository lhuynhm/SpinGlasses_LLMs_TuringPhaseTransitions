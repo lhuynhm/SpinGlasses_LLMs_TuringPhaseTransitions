{
  "nbformat": 4,
  "nbformat_minor": 0,
  "metadata": {
    "colab": {
      "provenance": []
    },
    "kernelspec": {
      "name": "python3",
      "display_name": "Python 3"
    },
    "language_info": {
      "name": "python"
    }
  },
  "cells": [
    {
      "cell_type": "code",
      "execution_count": null,
      "metadata": {
        "id": "hOFPVbqj_eZ9"
      },
      "outputs": [],
      "source": [
        "import numpy as np\n",
        "import matplotlib.pyplot as plt\n",
        "import matplotlib.ticker as ticker\n",
        "\n",
        "# Load the saved results from CSV\n",
        "energy_matrix = np.loadtxt(\"energy_matrix.csv\", delimiter=\",\")\n",
        "overlap_people_AI = np.loadtxt(\"overlap_people_AI.csv\", delimiter=\",\")\n",
        "overlap_people_human = np.loadtxt(\"overlap_people_human.csv\", delimiter=\",\")\n",
        "overlap_diff = np.loadtxt(\"overlap_diff.csv\", delimiter=\",\")\n",
        "\n",
        "# Define desired tick positions\n",
        "beta_range = np.linspace(0, 2.0, 20)\n",
        "ticks = np.round(np.arange(0, 2.01, 0.25), 2)  # ensures 2.00 is included\n",
        "\n",
        "# Display the energy matrix\n",
        "plt.figure(figsize=(10, 8))\n",
        "cax = plt.imshow(energy_matrix, origin='lower', extent=[0, 2.0, 0, 2.0], aspect='auto', cmap='plasma')\n",
        "\n",
        "# Add colorbar with label and font sizes\n",
        "cbar = plt.colorbar(cax, label='Hamiltonian')\n",
        "cbar.set_label('Hamiltonian', fontsize=25)\n",
        "cbar.ax.tick_params(labelsize=18)\n",
        "\n",
        "# Set axis labels with larger fonts\n",
        "plt.xlabel(r'$\\beta^{\\text{AI}}$', fontsize=25)\n",
        "plt.ylabel(r'$\\beta^{\\text{human}}$', fontsize=25)\n",
        "\n",
        "# Set identical custom ticks for both x and y axes\n",
        "plt.xticks(ticks)\n",
        "plt.yticks(ticks)\n",
        "\n",
        "# Format both axis ticks to 2 decimal places (or change to '%.1f' for 1 decimal)\n",
        "plt.gca().xaxis.set_major_formatter(ticker.FormatStrFormatter('%.2f'))\n",
        "plt.gca().yaxis.set_major_formatter(ticker.FormatStrFormatter('%.2f'))\n",
        "\n",
        "# Optional: Increase tick label font size\n",
        "plt.tick_params(axis='both', which='major', labelsize=18)\n",
        "\n",
        "# Optional: gridlines for visual aid\n",
        "# plt.grid(True, linestyle='--', alpha=0.4)\n",
        "\n",
        "plt.show()\n"
      ]
    }
  ]
}