{
  "nbformat": 4,
  "nbformat_minor": 0,
  "metadata": {
    "colab": {
      "provenance": []
    },
    "kernelspec": {
      "name": "python3",
      "display_name": "Python 3"
    },
    "language_info": {
      "name": "python"
    }
  },
  "cells": [
    {
      "cell_type": "code",
      "execution_count": null,
      "metadata": {
        "id": "WVZMpZqixq41"
      },
      "outputs": [],
      "source": [
        "import numpy as np\n",
        "import math\n",
        "\n",
        "# ------------------------\n",
        "# Helpers\n",
        "# ------------------------\n",
        "\n",
        "def random_on_sphere(dim):\n",
        "    vec = np.random.normal(0, 1, dim)\n",
        "    return vec / np.linalg.norm(vec)\n",
        "\n",
        "def sample_vMF(mu, kappa, norm):\n",
        "    dim = len(mu)\n",
        "    if kappa < 1e-6:\n",
        "        return norm * random_on_sphere(dim)\n",
        "    noise = np.random.normal(0, 1 / np.sqrt(kappa), size=dim)\n",
        "    sample = mu + noise\n",
        "    return norm * sample / np.linalg.norm(sample)\n",
        "\n",
        "# ------------------------\n",
        "# Gibbs Sampling\n",
        "# ------------------------\n",
        "\n",
        "def run_gibbs(beta_human, beta_ai, n_people=20, n_f_h=20, n_f_ai=20,\n",
        "              n_steps=2000, burn_in=1000, thinning=10):\n",
        "    J_human = np.random.normal(0, 1, size=(n_people, n_f_h))\n",
        "    J_ai = np.random.normal(0, 1, size=(n_people, n_f_ai))\n",
        "\n",
        "    X = np.sqrt(n_people) * random_on_sphere(n_people)\n",
        "    F_human = np.sqrt(n_f_h) * random_on_sphere(n_f_h)\n",
        "    F_ai = np.sqrt(n_f_ai) * random_on_sphere(n_f_ai)\n",
        "\n",
        "    overlaps = []\n",
        "\n",
        "    for step in range(n_steps):\n",
        "        h_X = (beta_human / np.sqrt(n_people + n_f_h)) * J_human @ F_human + \\\n",
        "              (beta_ai / np.sqrt(n_people + n_f_ai)) * J_ai @ F_ai\n",
        "        X = sample_vMF(h_X / np.linalg.norm(h_X + 1e-9), np.linalg.norm(h_X), np.sqrt(n_people))\n",
        "\n",
        "        h_F_h = (beta_human / np.sqrt(n_people + n_f_h)) * J_human.T @ X\n",
        "        F_human = sample_vMF(h_F_h / np.linalg.norm(h_F_h + 1e-9), np.linalg.norm(h_F_h), np.sqrt(n_f_h))\n",
        "\n",
        "        h_F_ai = (beta_ai / np.sqrt(n_people + n_f_ai)) * J_ai.T @ X\n",
        "        F_ai = sample_vMF(h_F_ai / np.linalg.norm(h_F_ai + 1e-9), np.linalg.norm(h_F_ai), np.sqrt(n_f_ai))\n",
        "\n",
        "        if step >= burn_in and (step - burn_in) % thinning == 0:\n",
        "            overlap = np.dot(F_human, F_ai) / (np.linalg.norm(F_human) * np.linalg.norm(F_ai))\n",
        "            overlaps.append(overlap)\n",
        "\n",
        "    return np.array(overlaps)\n",
        "\n",
        "# ------------------------\n",
        "# Simulation and Save Results\n",
        "# ------------------------\n",
        "\n",
        "beta_values = np.array([0,0.5,1,1.25,1.5,2.00])\n",
        "results = {}\n",
        "\n",
        "for beta_h in beta_values:\n",
        "    for beta_a in beta_values:\n",
        "        key = (round(beta_h, 2), round(beta_a, 2))\n",
        "        overlaps = run_gibbs(beta_h, beta_a)\n",
        "        results[key] = overlaps\n",
        "\n",
        "# Save the results to a file\n",
        "np.save('gibbs_results.npy', results)\n"
      ]
    }
  ]
}